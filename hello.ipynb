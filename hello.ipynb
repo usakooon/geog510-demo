{
 "cells": [
  {
   "cell_type": "markdown",
   "id": "27b0e469",
   "metadata": {},
   "source": [
    "# Introduction to Jupyter Notebook\n",
    "\n",
    "# Welcome to leafmap\n",
    "\n",
    "[![image](https://studiolab.sagemaker.aws/studiolab.svg)](https://studiolab.sagemaker.aws/import/github/opengeos/leafmap/blob/master/examples/notebooks/00_key_features.ipynb)\n",
    "[![image](https://colab.research.google.com/assets/colab-badge.svg)](https://colab.research.google.com/github/opengeos/leafmap/blob/master)\n",
    "[![image](https://mybinder.org/badge_logo.svg)](https://mybinder.org/v2/gh/opengeos/leafmap/HEAD)\n",
    "[![image](https://img.shields.io/pypi/v/leafmap.svg)](https://pypi.python.org/pypi/leafmap)\n",
    "[![image](https://static.pepy.tech/badge/leafmap)](https://pepy.tech/project/leafmap)\n",
    "[![Conda Recipe](https://img.shields.io/badge/recipe-leafmap-green.svg)](https://github.com/conda-forge/leafmap-feedstock)\n",
    "[![image](https://img.shields.io/conda/vn/conda-forge/leafmap.svg)](https://anaconda.org/conda-forge/leafmap)\n",
    "[![Conda Downloads](https://img.shields.io/conda/dn/conda-forge/leafmap.svg)](https://anaconda.org/conda-forge/leafmap)\n",
    "[![image](https://github.com/opengeos/leafmap/workflows/docs/badge.svg)](https://leafmap.org)\n",
    "[![image](https://github.com/opengeos/leafmap/workflows/Linux%20build/badge.svg)](https://github.com/opengeos/leafmap/actions)\n",
    "[![pre-commit.ci status](https://results.pre-commit.ci/badge/github/opengeos/leafmap/master.svg)](https://results.pre-commit.ci/latest/github/opengeos/leafmap/master)\n",
    "[![image](https://img.shields.io/badge/License-MIT-yellow.svg)](https://opensource.org/licenses/MIT)\n",
    "[![image](https://img.shields.io/badge/YouTube-Channel-red)](https://youtube.com/@giswqs)\n",
    "[![status](https://joss.theoj.org/papers/10.21105/joss.03414/status.svg)](https://doi.org/10.21105/joss.03414)\n",
    "\n",
    "[![logo](https://raw.githubusercontent.com/opengeos/leafmap/master/docs/assets/logo_rect.png)](https://github.com/opengeos/leafmap/blob/master/docs/assets/logo.png)\n",
    "\n",
    "**A Python package for geospatial analysis and interactive mapping in a Jupyter environment.**\n",
    "\n",
    "-   GitHub repo: <https://github.com/opengeos/leafmap>\n",
    "-   Documentation: <https://leafmap.org>\n",
    "-   PyPI: <https://pypi.org/project/leafmap>\n",
    "-   Conda-forge: <https://anaconda.org/conda-forge/leafmap>\n",
    "-   Leafmap tutorials on YouTube: <https://youtube.com/@giswqs>\n",
    "-   Free software: [MIT license](https://opensource.org/licenses/MIT)\n",
    "\n",
    "Join our Discord server 👇\n",
    "\n",
    "[![](https://dcbadge.limes.pink/api/server/https://discord.gg/UgZecTUq5P)](https://discord.gg/UgZecTUq5P)"
   ]
  },
  {
   "cell_type": "code",
   "execution_count": 1,
   "id": "70113ebd",
   "metadata": {},
   "outputs": [
    {
     "name": "stdout",
     "output_type": "stream",
     "text": [
      "Hello, World!\n"
     ]
    }
   ],
   "source": [
    "print(\"Hello, World!\")"
   ]
  },
  {
   "cell_type": "code",
   "execution_count": 2,
   "id": "6f5263cb",
   "metadata": {},
   "outputs": [],
   "source": [
    "import os"
   ]
  },
  {
   "cell_type": "code",
   "execution_count": 3,
   "id": "4a6638a1",
   "metadata": {},
   "outputs": [
    {
     "data": {
      "text/plain": [
       "'c:\\\\Users\\\\usako\\\\OneDrive\\\\ドキュメント\\\\geog510-demo'"
      ]
     },
     "execution_count": 3,
     "metadata": {},
     "output_type": "execute_result"
    }
   ],
   "source": [
    "os.getcwd()"
   ]
  },
  {
   "cell_type": "code",
   "execution_count": 4,
   "id": "b30aef43",
   "metadata": {},
   "outputs": [],
   "source": [
    "x=1\n",
    "y=2\n",
    "z=x+y"
   ]
  },
  {
   "cell_type": "code",
   "execution_count": 5,
   "id": "71cef97a",
   "metadata": {},
   "outputs": [
    {
     "data": {
      "text/plain": [
       "3"
      ]
     },
     "execution_count": 5,
     "metadata": {},
     "output_type": "execute_result"
    }
   ],
   "source": [
    "z"
   ]
  },
  {
   "cell_type": "code",
   "execution_count": 6,
   "id": "a29c1189",
   "metadata": {},
   "outputs": [],
   "source": [
    "import leafmap"
   ]
  },
  {
   "cell_type": "code",
   "execution_count": 7,
   "id": "fea9acd4",
   "metadata": {},
   "outputs": [
    {
     "data": {
      "application/vnd.jupyter.widget-view+json": {
       "model_id": "7f4b5535ba1f411c943f928dbe469b58",
       "version_major": 2,
       "version_minor": 0
      },
      "text/plain": [
       "Map(center=[20, 0], controls=(ZoomControl(options=['position', 'zoom_in_text', 'zoom_in_title', 'zoom_out_text…"
      ]
     },
     "execution_count": 7,
     "metadata": {},
     "output_type": "execute_result"
    }
   ],
   "source": [
    "m=leafmap.Map()\n",
    "m"
   ]
  },
  {
   "cell_type": "markdown",
   "id": "ef76601c",
   "metadata": {},
   "source": [
    "# geog510-demo\n",
    "\n",
    "## Introduction \n",
    "\n",
    "This is a demo repository for GEOG 510.\n",
    "\n",
    "## Usage\n",
    "\n",
    "You can use this reposgitory to practice using Git and GitHub.\n",
    "\n",
    "## Contributors\n",
    "\n",
    "The whole class.\n",
    "\n",
    "This is **bold**.\n",
    "\n",
    "This is _italic_.\n",
    "\n",
    "[geography.utk.edu](https://geography.utk.edu)\n",
    "\n",
    "![zootopia](https://i.imgur.com/ZBwwcjo.gif)\n",
    "\n"
   ]
  }
 ],
 "metadata": {
  "kernelspec": {
   "display_name": "geo",
   "language": "python",
   "name": "python3"
  },
  "language_info": {
   "codemirror_mode": {
    "name": "ipython",
    "version": 3
   },
   "file_extension": ".py",
   "mimetype": "text/x-python",
   "name": "python",
   "nbconvert_exporter": "python",
   "pygments_lexer": "ipython3",
   "version": "3.12.11"
  }
 },
 "nbformat": 4,
 "nbformat_minor": 5
}
